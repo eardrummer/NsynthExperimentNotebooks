{
 "cells": [
  {
   "cell_type": "markdown",
   "metadata": {},
   "source": [
    "### Parsing Nsynth dataset json files into audioSet Ontology\n",
    "This notebook parses json files in the nsynth dataset to map to their equivalent audio-set mid's"
   ]
  },
  {
   "cell_type": "code",
   "execution_count": 11,
   "metadata": {
    "collapsed": true
   },
   "outputs": [],
   "source": [
    "import json"
   ]
  },
  {
   "cell_type": "code",
   "execution_count": 12,
   "metadata": {
    "collapsed": false
   },
   "outputs": [
    {
     "name": "stdout",
     "output_type": "stream",
     "text": [
      "{u'bass_synthetic_033-022-050': {u'instrument': 417,\n",
      "                                 u'instrument_family': 0,\n",
      "                                 u'instrument_family_str': u'bass',\n",
      "                                 u'instrument_source': 2,\n",
      "                                 u'instrument_source_str': u'synthetic',\n",
      "                                 u'instrument_str': u'bass_synthetic_033',\n",
      "                                 u'note': 201034,\n",
      "                                 u'note_str': u'bass_synthetic_033-022-050',\n",
      "                                 u'pitch': 22,\n",
      "                                 u'qualities': [0, 1, 0, 0, 0, 0, 0, 0, 0, 0],\n",
      "                                 u'qualities_str': [u'dark'],\n",
      "                                 u'sample_rate': 16000,\n",
      "                                 u'velocity': 50}}\n"
     ]
    }
   ],
   "source": [
    "from pprint import pprint\n",
    "with open('nsynth_example_json.json') as f:\n",
    "    data = json.load(f)\n",
    "\n",
    "pprint(data)"
   ]
  },
  {
   "cell_type": "code",
   "execution_count": 13,
   "metadata": {
    "collapsed": false
   },
   "outputs": [
    {
     "name": "stdout",
     "output_type": "stream",
     "text": [
      "0\n",
      "2\n"
     ]
    }
   ],
   "source": [
    "print(data[\"bass_synthetic_033-022-050\"][\"instrument_family\"])\n",
    "print(data[\"bass_synthetic_033-022-050\"][\"instrument_source\"])"
   ]
  },
  {
   "cell_type": "markdown",
   "metadata": {},
   "source": [
    "There are 11 different instrument families that the nsynth instruments are categorized into :\n",
    "\n",
    "| index | ID |\n",
    "| --- | --- | \n",
    "| 0 | bass |\n",
    "| 1 | brass |\n",
    "| 2 | flute |\n",
    "| 3 | guitar |\n",
    "| 4 | keyboard |\n",
    "| 5 | mallet |\n",
    "| 6 | organ|\n",
    "| 7 | reed |\n",
    "| 8 | string |\n",
    "| 9 | synth_lead |\n",
    "| 10 | vocal |"
   ]
  },
  {
   "cell_type": "markdown",
   "metadata": {},
   "source": [
    "These are the audio set ontology mID's of leaves under the heirarchy of musical instrument which we want to map our nsynth instrument to : \n",
    "\n",
    "\"/m/0fx80y\", \"/m/05148p4\", \"/m/0l14md\", \"/m/05pd6\", \"/m/01kcd\", \"/m/0l14_3\", \n",
    "\"/m/085jw\", \"/m/03m5k\", \"/m/0l14jd\", \"/m/0395lw\", \"/m/03qjg\", \"/m/0mkg\", \n",
    "\"/m/0192l\", \"/m/02bxd\", \"/m/0l14l2\", \"/m/07kc_\", \"/m/0l14t7\", \"/m/05229\", \"/m/01vj9c\", \"/m/01hgjl\"\n"
   ]
  },
  {
   "cell_type": "markdown",
   "metadata": {},
   "source": [
    "### Mapping\n",
    "Since the nsynth instrument families arent heirarchical, the mapping to its respective audioset ID is ambiguous. Here I return a list of mID (from audioset) that match within the instrument family of the nsynth query"
   ]
  },
  {
   "cell_type": "code",
   "execution_count": 14,
   "metadata": {
    "collapsed": false
   },
   "outputs": [],
   "source": [
    "def instrument_family_mapping(instrument_family):\n",
    "    return{\n",
    "        \n",
    "         #Bass\n",
    "         0 : [\"/m/018vs\", #Bass guitar\n",
    "              \"/m/0bm02\", #Bass drum\n",
    "              \"/m/02fsn\", #Double Bass\n",
    "              \"/m/01vj9c\", #Bass (instrument role)\n",
    "              \"/m/017gp\" #Bass (frequency range)\n",
    "             ],\n",
    "        \n",
    "         #Brass\n",
    "         1 : [\"/m/01kcd\", #Brass instrument\n",
    "              \"/m/0319l\", #French horn\n",
    "              \"/m/07gql\", #Trumpet\n",
    "              \"/m/07c6l\", #Trombone\n",
    "              \"/m/020w2\", #Cornet\n",
    "              \"/m/0y64j\" #Bugle\n",
    "             ],\n",
    "        \n",
    "         #Flute\n",
    "         2 : [\"/m/0l14j_\" #Flute\n",
    "             ],\n",
    "        \n",
    "         #Guitar\n",
    "         3 : [\"/m/0342h\", #Guitar\n",
    "              \"/m/02sgy\", #Electric guitar\n",
    "              \"/m/018vs\", #Bass guitar\n",
    "              \"/m/042v_gx\", #Acoustic guitar\n",
    "              \"/m/06w87\", #Steel guitar, slide guitar\n",
    "              \"/m/01glhc\", #Tapping (guitar technique)\n",
    "              \"/m/07s0s5r\" #Strum\n",
    "             ],\n",
    "        \n",
    "         #Keyboard\n",
    "         4 : [\"/m/05148p4\", #Keyboard (musical)\n",
    "              \"/m/05r5c\", #Piano\n",
    "              \"/m/01s0ps\", #Electric piano\n",
    "              \"/m/025cbm\", #Clavinet\n",
    "              \"/m/0bxl5\", #Rhodes piano\n",
    "              \"/m/01v1d8\", #Sampler\n",
    "              \"/m/0gkd1\", #Mellotron\n",
    "              \"/m/03q5t\" #Harpsichord\n",
    "             ],\n",
    "        \n",
    "         #Mallet\n",
    "         5 : [\"/m/0j45pbj\", #Mallet percussion\n",
    "              \"/m/0dwsp\", #Marimba, xylophone\n",
    "              \"/m/0dwtp\", #Glockenspiel\n",
    "              \"/m/0dwt5\", #Vibraphone\n",
    "              \"/m/0l156b\" #Steelpan\n",
    "             ],\n",
    "        \n",
    "         #Organ\n",
    "         6 : [\"/m/013y1f\", #Organ\n",
    "              \"/m/03xq_f\", #Electronic organ\n",
    "              \"/m/03gvt\", #Hammond organ\n",
    "             ],\n",
    "        \n",
    "         #Reed\n",
    "         7 : [\"/m/06ncr\", #Saxophone\n",
    "              \"/m/02pprs\", #Alto saxophone\n",
    "              \"/m/03t22m\" #Soprano saxophone\n",
    "              \"/m/01wy6\", #Clarinet\n",
    "              \"/m/05kms\", #Oboe\n",
    "              \"/m/01c3q\" #Bassoon\n",
    "             ],\n",
    "        \n",
    "         #String\n",
    "         8 : [\"/m/0fx80y\", #Plucked String Instrument\n",
    "              \"/m/018j2\", #Banjo\n",
    "              \"/m/0jtg0\", #Sitar\n",
    "              \"/m/04rzd\", #Mandolin\n",
    "              \"/m/01bns_\", #Zither\n",
    "              \"/m/07xzm\" #Ukulele\n",
    "             ],\n",
    "        \n",
    "         #Synth_Lead\n",
    "         9 : [\"/m/0l14qv\", #Synthesizer\n",
    "             ],\n",
    "        \n",
    "         #Vocal\n",
    "         10 : [\"/m/015lz1\", #Singing\n",
    "               \"/m/0l14jd\", #Choir\n",
    "               \"/m/01swy6\", #Yodeling\n",
    "               \"/m/02bk07\", #Chant\n",
    "               \"/m/01c194\", #Mantra\n",
    "               \"/t/dd00003\", #Male singing\n",
    "               \"/t/dd00004\", #Female singing\n",
    "               \"/t/dd00005\", #Child singing\n",
    "               \"/t/dd00006\", #Synthetic singing\n",
    "               \"/m/06bxc\", #Rapping\n",
    "              ],\n",
    "    }[instrument_family]"
   ]
  },
  {
   "cell_type": "code",
   "execution_count": 15,
   "metadata": {
    "collapsed": false
   },
   "outputs": [
    {
     "name": "stdout",
     "output_type": "stream",
     "text": [
      "['/m/018vs', '/m/0bm02', '/m/02fsn', '/m/01vj9c']\n"
     ]
    }
   ],
   "source": [
    "# Test of a single example.\n",
    "print(instrument_family_mapping_acoustic(data[\"bass_synthetic_033-022-050\"][\"instrument_family\"]))"
   ]
  },
  {
   "cell_type": "markdown",
   "metadata": {},
   "source": [
    "## Musical Instrument heirarchy (audioset Ontology)\n",
    "\n",
    "Some Notes about the various mID's in audio set ontology related to Musical Instruments and their children heirarchy : \n",
    "\n",
    "NOTE: This has been created from \n",
    "https://github.com/audioset/ontology/blob/master/ontology.json\n",
    "(with last commit Mar 8, 2017)\n",
    "\n",
    "- \"/m/04szw\" Musical Instrument \n",
    "    - \"/m/0fx80y\",  Plucked string instrument\n",
    "        - \"/m/0342h\", Guitar\n",
    "            - \"/m/02sgy\", Electric guitar\n",
    "            - \"/m/018vs\", Bass guitar\n",
    "            - \"/m/042v_gx\", Acoustic guitar\n",
    "            - \"/m/06w87\", Steel guitar, slide guitar\n",
    "            - \"/m/01glhc\", Tapping (guitar technique)\n",
    "            - \"/m/07s0s5r\" Strum\n",
    "        - \"/m/018j2\", Banjo\n",
    "        - \"/m/0jtg0\", Sitar\n",
    "        - \"/m/04rzd\", Mandolin\n",
    "        - \"/m/01bns_\", Zither\n",
    "        - \"/m/07xzm\"  Ukulele\n",
    "    - \"/m/05148p4\", Keyboard (musical)\n",
    "        - \"/m/05r5c\", Piano\n",
    "            - \"/m/01s0ps\" Electric piano\n",
    "                - \"/m/025cbm\",  Clavinet\n",
    "                - \"/m/0bxl5\"  Rhodes piano\n",
    "        - \"/m/013y1f\", Organ\n",
    "            - \"/m/03xq_f\", Electronic organ\n",
    "            - \"/m/03gvt\"  Hammond organ\n",
    "        - \"/m/0l14qv\", Synthesizer\n",
    "            - \"/m/01v1d8\", Sampler\n",
    "            - \"/m/0gkd1\"   Mellotron\n",
    "        - \"/m/03q5t\"   Harpsichord\n",
    "    - \"/m/0l14md\", Percussion\n",
    "        - \"/m/02hnl\", Drum kit\n",
    "            - \"/m/0cfdd\" Drum machine\n",
    "            - \"/m/026t6\", Drum\n",
    "                - \"/m/06rvn\", Snare drum\n",
    "                    - \"/m/03t3fj\", Rimshot\n",
    "                    - \"/m/02k_mr\"  Drum roll\n",
    "                - \"/m/0bm02\", Bass drum\n",
    "                - \"/m/011k_j\", Timpani\n",
    "                - \"/m/01p970\"  Tabla\n",
    "            - \"/m/01qbl\", Cymbal\n",
    "                - \"/m/03qtq\", Hi-hat\n",
    "                - \"/m/0bm0k\"  Crash cymbal\n",
    "            - \"/m/0239kh\",  Cowbell\n",
    "            - \"/m/01sm1g\",  Wood block\n",
    "            - \"/m/07brj\",   Tambourine\n",
    "            - \"/m/05r5wn\",  Rattle (instrument)\n",
    "                - \"/m/0xzly\" Maraca\n",
    "            - \"/m/0mbct\",  Gong\n",
    "            - \"/m/016622\",  Tubular bells\n",
    "            - \"/m/0j45pbj\", Mallet percussion\n",
    "                - \"/m/0dwsp\", Marimba, xylophone\n",
    "                - \"/m/0dwtp\", Glockenspiel\n",
    "                - \"/m/0dwt5\", Vibraphone\n",
    "                - \"/m/0l156b\" Steelpan\n",
    "    - \"/m/05pd6\", Orchestra\n",
    "    - \"/m/01kcd\", Brass instrument\n",
    "        - \"/m/0319l\", French horn\n",
    "        - \"/m/07gql\", Trumpet\n",
    "        - \"/m/07c6l\", Trombone\n",
    "        - \"/m/020w2\", Cornet\n",
    "        - \"/m/0y64j\"  Bugle\n",
    "    - \"/m/0l14_3\",  Bowed string instrument\n",
    "        - \"/m/02qmj0d\", String section\n",
    "        - \"/m/07y_7\", Violin, fiddle\n",
    "            - \"/m/0d8_n\"  Pizzicato\n",
    "        - \"/m/01xqw\", Cello\n",
    "        - \"/m/02fsn\"  Double bass\n",
    "    - \"/m/085jw\", Wind instrument, woodwind instrument\n",
    "        - \"/m/0l14j_\", Flute\n",
    "        - \"/m/06ncr\", Saxophone\n",
    "            - \"/m/02pprs\",  Alto saxophone\n",
    "            - \"/m/03t22m\"   Soprano saxophone\n",
    "        - \"/m/01wy6\", Clarinet\n",
    "        - \"/m/05kms\", Oboe\n",
    "        - \"/m/01c3q\"  Bassoon\n",
    "    - \"/m/03m5k\",  Harp\n",
    "    - \"/m/0l14jd\", Choir\n",
    "    - \"/m/0395lw\",  Bell\n",
    "        - \"/m/03w41f\", Church bell\n",
    "        - \"/m/0239kh\", Cowbell\n",
    "        - \"/m/027m70_\", Jingle bell\n",
    "        - \"/m/0gy1t2s\", Bicycle bell\n",
    "        - \"/m/07n_g\",   Tuning fork\n",
    "        - \"/m/0f8s22\",  Chime\n",
    "            - \"/m/026fgl\"  Wind chime\n",
    "        - \"/m/0150b9\" Change ringing (campanology)\n",
    "    - \"/m/03qjg\", Harmonica\n",
    "    - \"/m/0mkg\", Accordion\n",
    "    - \"/m/0192l\", Bagpipes\n",
    "    - \"/m/02bxd\", Didgeridoo\n",
    "    - \"/m/0l14l2\", Shofar\n",
    "    - \"/m/07kc_\",  Theremin\n",
    "    - \"/m/0l14t7\", Singing bowl\n",
    "    - \"/m/05229\",  Musical ensemble\n",
    "    - \"/m/01vj9c\", Bass (instrument role)\n",
    "    - \"/m/01hgjl\", Scratching (performance technique)\n",
    "    \n",
    "    \n",
    "    \n",
    "Also outside of the musical instrument heirarchy there is Singing\n",
    "\n",
    "- \"/m/015lz1\", Singing\n",
    "    - \"/m/0l14jd\", Choir\n",
    "    - \"/m/01swy6\", Yodeling\n",
    "    - \"/m/02bk07\", Chant\n",
    "        - \"/m/01c194\", Mantra\n",
    "    - \"/t/dd00003\", Male singing\n",
    "    - \"/t/dd00004\", Female singing\n",
    "    - \"/t/dd00005\", Child singing\n",
    "    - \"/t/dd00006\", Synthetic singing\n",
    "    - \"/m/06bxc\", Rapping\n",
    "   "
   ]
  }
 ],
 "metadata": {
  "kernelspec": {
   "display_name": "Python 2",
   "language": "python",
   "name": "python2"
  },
  "language_info": {
   "codemirror_mode": {
    "name": "ipython",
    "version": 2
   },
   "file_extension": ".py",
   "mimetype": "text/x-python",
   "name": "python",
   "nbconvert_exporter": "python",
   "pygments_lexer": "ipython2",
   "version": "2.7.12"
  }
 },
 "nbformat": 4,
 "nbformat_minor": 2
}
